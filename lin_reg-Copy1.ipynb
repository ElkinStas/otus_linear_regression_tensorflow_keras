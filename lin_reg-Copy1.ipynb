{
 "cells": [
  {
   "cell_type": "markdown",
   "metadata": {},
   "source": [
    "## Линейная регрессия"
   ]
  },
  {
   "cell_type": "code",
   "execution_count": 1,
   "metadata": {},
   "outputs": [],
   "source": [
    "import pandas as pd\n",
    "dataset = pd.read_csv('Fish.csv')"
   ]
  },
  {
   "cell_type": "code",
   "execution_count": 2,
   "metadata": {},
   "outputs": [
    {
     "data": {
      "text/html": [
       "<div>\n",
       "<style scoped>\n",
       "    .dataframe tbody tr th:only-of-type {\n",
       "        vertical-align: middle;\n",
       "    }\n",
       "\n",
       "    .dataframe tbody tr th {\n",
       "        vertical-align: top;\n",
       "    }\n",
       "\n",
       "    .dataframe thead th {\n",
       "        text-align: right;\n",
       "    }\n",
       "</style>\n",
       "<table border=\"1\" class=\"dataframe\">\n",
       "  <thead>\n",
       "    <tr style=\"text-align: right;\">\n",
       "      <th></th>\n",
       "      <th>Species</th>\n",
       "      <th>Weight</th>\n",
       "      <th>Length1</th>\n",
       "      <th>Length2</th>\n",
       "      <th>Length3</th>\n",
       "      <th>Height</th>\n",
       "      <th>Width</th>\n",
       "    </tr>\n",
       "  </thead>\n",
       "  <tbody>\n",
       "    <tr>\n",
       "      <th>0</th>\n",
       "      <td>Bream</td>\n",
       "      <td>242.0</td>\n",
       "      <td>23.2</td>\n",
       "      <td>25.4</td>\n",
       "      <td>30.0</td>\n",
       "      <td>11.5200</td>\n",
       "      <td>4.0200</td>\n",
       "    </tr>\n",
       "    <tr>\n",
       "      <th>1</th>\n",
       "      <td>Bream</td>\n",
       "      <td>290.0</td>\n",
       "      <td>24.0</td>\n",
       "      <td>26.3</td>\n",
       "      <td>31.2</td>\n",
       "      <td>12.4800</td>\n",
       "      <td>4.3056</td>\n",
       "    </tr>\n",
       "    <tr>\n",
       "      <th>2</th>\n",
       "      <td>Bream</td>\n",
       "      <td>340.0</td>\n",
       "      <td>23.9</td>\n",
       "      <td>26.5</td>\n",
       "      <td>31.1</td>\n",
       "      <td>12.3778</td>\n",
       "      <td>4.6961</td>\n",
       "    </tr>\n",
       "    <tr>\n",
       "      <th>3</th>\n",
       "      <td>Bream</td>\n",
       "      <td>363.0</td>\n",
       "      <td>26.3</td>\n",
       "      <td>29.0</td>\n",
       "      <td>33.5</td>\n",
       "      <td>12.7300</td>\n",
       "      <td>4.4555</td>\n",
       "    </tr>\n",
       "    <tr>\n",
       "      <th>4</th>\n",
       "      <td>Bream</td>\n",
       "      <td>430.0</td>\n",
       "      <td>26.5</td>\n",
       "      <td>29.0</td>\n",
       "      <td>34.0</td>\n",
       "      <td>12.4440</td>\n",
       "      <td>5.1340</td>\n",
       "    </tr>\n",
       "  </tbody>\n",
       "</table>\n",
       "</div>"
      ],
      "text/plain": [
       "  Species  Weight  Length1  Length2  Length3   Height   Width\n",
       "0   Bream   242.0     23.2     25.4     30.0  11.5200  4.0200\n",
       "1   Bream   290.0     24.0     26.3     31.2  12.4800  4.3056\n",
       "2   Bream   340.0     23.9     26.5     31.1  12.3778  4.6961\n",
       "3   Bream   363.0     26.3     29.0     33.5  12.7300  4.4555\n",
       "4   Bream   430.0     26.5     29.0     34.0  12.4440  5.1340"
      ]
     },
     "execution_count": 2,
     "metadata": {},
     "output_type": "execute_result"
    }
   ],
   "source": [
    "dataset.head()"
   ]
  },
  {
   "cell_type": "markdown",
   "metadata": {},
   "source": [
    "### постараемся предсказать вес рыбы по другим параметрам"
   ]
  },
  {
   "cell_type": "code",
   "execution_count": 3,
   "metadata": {},
   "outputs": [],
   "source": [
    "y = dataset['Weight'].values\n",
    "x = dataset[['Length1','Length2', 'Length3','Height','Width']].values"
   ]
  },
  {
   "cell_type": "markdown",
   "metadata": {},
   "source": [
    "### нормализуем данные"
   ]
  },
  {
   "cell_type": "code",
   "execution_count": 4,
   "metadata": {},
   "outputs": [],
   "source": [
    "x = (x - x.mean()) / x.std()\n",
    "y = (y - y.mean()) / y.std()"
   ]
  },
  {
   "cell_type": "code",
   "execution_count": 5,
   "metadata": {},
   "outputs": [
    {
     "data": {
      "text/plain": [
       "(array([27., 32., 13., 18.,  6.,  6., 12.,  6., 12.,  4.,  5.,  6.,  6.,\n",
       "         2.,  0.,  1.,  0.,  0.,  1.,  2.]),\n",
       " array([-1.1162267 , -0.88503765, -0.65384861, -0.42265957, -0.19147053,\n",
       "         0.03971852,  0.27090756,  0.5020966 ,  0.73328564,  0.96447468,\n",
       "         1.19566373,  1.42685277,  1.65804181,  1.88923085,  2.1204199 ,\n",
       "         2.35160894,  2.58279798,  2.81398702,  3.04517606,  3.27636511,\n",
       "         3.50755415]),\n",
       " <a list of 20 Patch objects>)"
      ]
     },
     "execution_count": 5,
     "metadata": {},
     "output_type": "execute_result"
    },
    {
     "data": {
      "image/png": "[encoded data removed]",
      "text/plain": [
       "<Figure size 432x288 with 1 Axes>"
      ]
     },
     "metadata": {
      "needs_background": "light"
     },
     "output_type": "display_data"
    }
   ],
   "source": [
    "import matplotlib.pyplot as plt\n",
    "%matplotlib inline\n",
    "\n",
    "plt.hist(y, bins=20)"
   ]
  },
  {
   "cell_type": "code",
   "execution_count": 6,
   "metadata": {},
   "outputs": [],
   "source": [
    "import numpy as np\n",
    "np.random.seed(42)"
   ]
  },
  {
   "cell_type": "markdown",
   "metadata": {},
   "source": [
    "### \n",
    "Данные нужно разделить в отношении 80/20 на обучающую и валидационную выборки. "
   ]
  },
  {
   "cell_type": "code",
   "execution_count": 7,
   "metadata": {},
   "outputs": [],
   "source": [
    "pivot = int(len(y) * 0.8)\n",
    "index = np.arange(len(dataset))\n",
    "np.random.shuffle(index)\n",
    "\n",
    "train_index, val_index = index[:pivot], index[pivot:]\n",
    "\n",
    "y_train, y_val = y[train_index], y[val_index]\n",
    "x_train, x_val = x[train_index], x[val_index]"
   ]
  },
  {
   "cell_type": "code",
   "execution_count": 8,
   "metadata": {},
   "outputs": [],
   "source": [
    "import tensorflow as tf"
   ]
  },
  {
   "cell_type": "markdown",
   "metadata": {},
   "source": [
    "### Инициализация\n",
    "\n",
    "Воспользуйтесь x.shape, чтобы задать правильную размерность вектора с параметрами. Проинициализируйте его случайными значениями.\n",
    "\n",
    "**Значение сдвига** `b = 0`; часто сдвиг или вектор сдвигов инициализируют нулями или средним по выборке значением, если оно отлично от нуля."
   ]
  },
  {
   "cell_type": "code",
   "execution_count": 9,
   "metadata": {},
   "outputs": [
    {
     "data": {
      "text/plain": [
       "(5,)"
      ]
     },
     "execution_count": 9,
     "metadata": {},
     "output_type": "execute_result"
    }
   ],
   "source": [
    "import random\n",
    "x.shape[1:]"
   ]
  },
  {
   "cell_type": "code",
   "execution_count": 10,
   "metadata": {},
   "outputs": [],
   "source": [
    "initial_value = tf.random.normal(shape=(5,))\n",
    "w = tf.Variable(initial_value, dtype=tf.float32)"
   ]
  },
  {
   "cell_type": "code",
   "execution_count": 11,
   "metadata": {},
   "outputs": [],
   "source": [
    "initial_value = tf.random.normal(shape=(5,))\n",
    "w =  tf.Variable(initial_value, dtype=tf.float32)\n",
    "b = tf.Variable(0, dtype=tf.float32)\n",
    "learning_rate = tf.constant(1e-4)"
   ]
  },
  {
   "cell_type": "code",
   "execution_count": 12,
   "metadata": {},
   "outputs": [
    {
     "data": {
      "text/plain": [
       "<tf.Variable 'Variable:0' shape=(5,) dtype=float32, numpy=\n",
       "array([-0.46829584,  0.91233313,  1.1096842 ,  1.1051306 , -0.1207491 ],\n",
       "      dtype=float32)>"
      ]
     },
     "execution_count": 12,
     "metadata": {},
     "output_type": "execute_result"
    }
   ],
   "source": [
    "w"
   ]
  },
  {
   "cell_type": "code",
   "execution_count": 13,
   "metadata": {},
   "outputs": [
    {
     "data": {
      "text/plain": [
       "tf.float32"
      ]
     },
     "execution_count": 13,
     "metadata": {},
     "output_type": "execute_result"
    }
   ],
   "source": [
    "w.dtype\n"
   ]
  },
  {
   "cell_type": "code",
   "execution_count": 14,
   "metadata": {},
   "outputs": [],
   "source": [
    "def fit(x, y, threshold=0.001, n_steps=10000):\n",
    "    x = tf.constant(x, dtype=tf.float32)\n",
    "    y = tf.constant(y, dtype=tf.float32)\n",
    "    for step in range(n_steps):\n",
    "        loss = train_step(x, y)\n",
    "        if loss < threshold:\n",
    "            break\n",
    "        if (step + 1) % 50 == 0:\n",
    "            print(f\"Loss at {step} iter. is {loss.numpy()}\")\n",
    "    return loss"
   ]
  },
  {
   "cell_type": "markdown",
   "metadata": {},
   "source": [
    "### Train step\n",
    "\n",
    "Дополните `train_step` так, чтобы функция вычисляла значение $\\hat{y}$ для переданного $x$, и затем значение функции ошибки с помощью функции `calc_loss`.\n",
    "\n",
    "Добавитье обновление параметров в строчке `w = ...`. *Если возвращаемое значение* функции ошибки равно `nan` или `inf`, подумайте, что могло привести к такой ситуации и что нужно исправить."
   ]
  },
  {
   "cell_type": "code",
   "execution_count": 15,
   "metadata": {},
   "outputs": [],
   "source": [
    "def train_step(x, y):\n",
    "    global w\n",
    "    with tf.GradientTape() as tape:\n",
    "        y_hat = model(x)\n",
    "        loss = calc_loss(y, y_hat)\n",
    "        grads = tape.gradient(loss, w)\n",
    "        #print(grads)\n",
    "    w.assign_sub(grads * 0.001)\n",
    "    return loss"
   ]
  },
  {
   "cell_type": "markdown",
   "metadata": {},
   "source": [
    "Умножение вектора на вектор или вектора на строку в `tf` - это сложная операция. В отличие от матричного умножения, которое можно записать просто как `C = A @ B` или `C = tf.matmul(A, B)`, здесь нужно вызывать функцию `tf.tensordot`, которая способна умножать тензоры любой размерности. Затем функции надо указать ось, по которой выполняется сложение: в данном случае, 1 - т.е. для произведения матрицы на вектор нужно выполнить операцию\n",
    "\n",
    "`tf.tensordot(x, w, 1)`\n",
    "\n",
    "Воспользовавшись этим способом, напишите модель для линейной регрессии. Кстати, это не единственный возможный вариант [расчета скалярного произведения в tensorflow](https://stackoverflow.com/questions/40670370/dot-product-of-two-vectors-in-tensorflow)."
   ]
  },
  {
   "cell_type": "code",
   "execution_count": 16,
   "metadata": {},
   "outputs": [],
   "source": [
    "def model(x):\n",
    "    global w\n",
    "    return(tf.tensordot(x, w, 1))"
   ]
  },
  {
   "cell_type": "markdown",
   "metadata": {},
   "source": [
    "Напишите функцию, которая вычисляет значение MSE для двух переданных векторов со значениями $y, \\hat{y}$ (истинные и спрогнозированные значения). Функция должна возвращать _одно_ значение (скаляр), как и в формуле $\\frac{1}{n}\\sum_{i=1}^{n}(y^{(i)} - \\hat{y}^{(i)})^2$ \n",
    "\n",
    "* разность векторов и возведение в квадрат можно сделать при помощи обычных операторов `-`, `**2`\n",
    "* Для того, чтобы в тензорфлоу выполнить аналог операции $\\frac{1}{n}\\sum_{i=1}^n (...)$, воспользуйтесь функцией `tf.reduce_mean`. Заодно можете изучить, какие еще есть `tf.reduce_...` функции :)"
   ]
  },
  {
   "cell_type": "code",
   "execution_count": 17,
   "metadata": {},
   "outputs": [],
   "source": [
    "def calc_loss(y, y_hat):\n",
    "    x = tf.reduce_mean((y - y_hat)**2)\n",
    "    return(x)"
   ]
  },
  {
   "cell_type": "markdown",
   "metadata": {},
   "source": [
    "## обучим модель"
   ]
  },
  {
   "cell_type": "code",
   "execution_count": 18,
   "metadata": {},
   "outputs": [
    {
     "name": "stdout",
     "output_type": "stream",
     "text": [
      "Loss at 49 iter. is 0.463529497385025\n",
      "Loss at 99 iter. is 0.30862635374069214\n",
      "Loss at 149 iter. is 0.23820577561855316\n",
      "Loss at 199 iter. is 0.20518769323825836\n",
      "Loss at 249 iter. is 0.18892787396907806\n",
      "Loss at 299 iter. is 0.18033301830291748\n",
      "Loss at 349 iter. is 0.17536446452140808\n",
      "Loss at 399 iter. is 0.1722034215927124\n",
      "Loss at 449 iter. is 0.17001031339168549\n",
      "Loss at 499 iter. is 0.1683821976184845\n",
      "Loss at 549 iter. is 0.16711421310901642\n",
      "Loss at 599 iter. is 0.16609379649162292\n",
      "Loss at 649 iter. is 0.16525347530841827\n",
      "Loss at 699 iter. is 0.1645490825176239\n",
      "Loss at 749 iter. is 0.16394972801208496\n",
      "Loss at 799 iter. is 0.16343271732330322\n",
      "Loss at 849 iter. is 0.16298078000545502\n",
      "Loss at 899 iter. is 0.16258060932159424\n",
      "Loss at 949 iter. is 0.1622217297554016\n",
      "Loss at 999 iter. is 0.16189584136009216\n",
      "Loss at 1049 iter. is 0.16159649193286896\n",
      "Loss at 1099 iter. is 0.16131840646266937\n",
      "Loss at 1149 iter. is 0.16105760633945465\n",
      "Loss at 1199 iter. is 0.16081072390079498\n",
      "Loss at 1249 iter. is 0.16057519614696503\n",
      "Loss at 1299 iter. is 0.1603490114212036\n",
      "Loss at 1349 iter. is 0.16013044118881226\n",
      "Loss at 1399 iter. is 0.15991827845573425\n",
      "Loss at 1449 iter. is 0.15971140563488007\n",
      "Loss at 1499 iter. is 0.1595090627670288\n",
      "Loss at 1549 iter. is 0.15931056439876556\n",
      "Loss at 1599 iter. is 0.15911537408828735\n",
      "Loss at 1649 iter. is 0.15892308950424194\n",
      "Loss at 1699 iter. is 0.15873336791992188\n",
      "Loss at 1749 iter. is 0.15854597091674805\n",
      "Loss at 1799 iter. is 0.15836064517498016\n",
      "Loss at 1849 iter. is 0.1581772267818451\n",
      "Loss at 1899 iter. is 0.15799562633037567\n",
      "Loss at 1949 iter. is 0.15781566500663757\n",
      "Loss at 1999 iter. is 0.15763726830482483\n",
      "Loss at 2049 iter. is 0.15746040642261505\n",
      "Loss at 2099 iter. is 0.1572849303483963\n",
      "Loss at 2149 iter. is 0.15711086988449097\n",
      "Loss at 2199 iter. is 0.15693816542625427\n",
      "Loss at 2249 iter. is 0.15676675736904144\n",
      "Loss at 2299 iter. is 0.15659666061401367\n",
      "Loss at 2349 iter. is 0.15642781555652618\n",
      "Loss at 2399 iter. is 0.15626023709774017\n",
      "Loss at 2449 iter. is 0.15609383583068848\n",
      "Loss at 2499 iter. is 0.15592868626117706\n",
      "Loss at 2549 iter. is 0.15576471388339996\n",
      "Loss at 2599 iter. is 0.15560190379619598\n",
      "Loss at 2649 iter. is 0.15544025599956512\n",
      "Loss at 2699 iter. is 0.15527978539466858\n",
      "Loss at 2749 iter. is 0.15512044727802277\n",
      "Loss at 2799 iter. is 0.1549622118473053\n",
      "Loss at 2849 iter. is 0.15480507910251617\n",
      "Loss at 2899 iter. is 0.15464913845062256\n",
      "Loss at 2949 iter. is 0.1544942408800125\n",
      "Loss at 2999 iter. is 0.154340460896492\n",
      "Loss at 3049 iter. is 0.15418776869773865\n",
      "Loss at 3099 iter. is 0.15403614938259125\n",
      "Loss at 3149 iter. is 0.15388555824756622\n",
      "Loss at 3199 iter. is 0.15373609960079193\n",
      "Loss at 3249 iter. is 0.15358766913414001\n",
      "Loss at 3299 iter. is 0.15344029664993286\n",
      "Loss at 3349 iter. is 0.1532939225435257\n",
      "Loss at 3399 iter. is 0.1531486213207245\n",
      "Loss at 3449 iter. is 0.15300431847572327\n",
      "Loss at 3499 iter. is 0.1528610736131668\n",
      "Loss at 3549 iter. is 0.15271882712841034\n",
      "Loss at 3599 iter. is 0.15257756412029266\n",
      "Loss at 3649 iter. is 0.1524372696876526\n",
      "Loss at 3699 iter. is 0.1522980034351349\n",
      "Loss at 3749 iter. is 0.15215972065925598\n",
      "Loss at 3799 iter. is 0.15202242136001587\n",
      "Loss at 3849 iter. is 0.15188606083393097\n",
      "Loss at 3899 iter. is 0.15175068378448486\n",
      "Loss at 3949 iter. is 0.15161626040935516\n",
      "Loss at 3999 iter. is 0.15148277580738068\n",
      "Loss at 4049 iter. is 0.1513502150774002\n",
      "Loss at 4099 iter. is 0.15121859312057495\n",
      "Loss at 4149 iter. is 0.15108796954154968\n",
      "Loss at 4199 iter. is 0.15095818042755127\n",
      "Loss at 4249 iter. is 0.15082934498786926\n",
      "Loss at 4299 iter. is 0.1507013738155365\n",
      "Loss at 4349 iter. is 0.15057434141635895\n",
      "Loss at 4399 iter. is 0.15044817328453064\n",
      "Loss at 4449 iter. is 0.15032294392585754\n",
      "Loss at 4499 iter. is 0.1501985490322113\n",
      "Loss at 4549 iter. is 0.15007509291172028\n",
      "Loss at 4599 iter. is 0.1499524563550949\n",
      "Loss at 4649 iter. is 0.14983069896697998\n",
      "Loss at 4699 iter. is 0.1497097760438919\n",
      "Loss at 4749 iter. is 0.14958971738815308\n",
      "Loss at 4799 iter. is 0.14947053790092468\n",
      "Loss at 4849 iter. is 0.14935217797756195\n",
      "Loss at 4899 iter. is 0.1492346227169037\n",
      "Loss at 4949 iter. is 0.14911788702011108\n",
      "Loss at 4999 iter. is 0.14900203049182892\n",
      "Loss at 5049 iter. is 0.14888694882392883\n",
      "Loss at 5099 iter. is 0.1487727016210556\n",
      "Loss at 5149 iter. is 0.14865922927856445\n",
      "Loss at 5199 iter. is 0.14854656159877777\n",
      "Loss at 5249 iter. is 0.14843469858169556\n",
      "Loss at 5299 iter. is 0.1483236402273178\n",
      "Loss at 5349 iter. is 0.14821329712867737\n",
      "Loss at 5399 iter. is 0.14810381829738617\n",
      "Loss at 5449 iter. is 0.14799509942531586\n",
      "Loss at 5499 iter. is 0.14788706600666046\n",
      "Loss at 5549 iter. is 0.14777986705303192\n",
      "Loss at 5599 iter. is 0.1476733684539795\n",
      "Loss at 5649 iter. is 0.14756765961647034\n",
      "Loss at 5699 iter. is 0.1474626660346985\n",
      "Loss at 5749 iter. is 0.14735841751098633\n",
      "Loss at 5799 iter. is 0.14725491404533386\n",
      "Loss at 5849 iter. is 0.14715217053890228\n",
      "Loss at 5899 iter. is 0.14705011248588562\n",
      "Loss at 5949 iter. is 0.14694876968860626\n",
      "Loss at 5999 iter. is 0.14684811234474182\n",
      "Loss at 6049 iter. is 0.14674820005893707\n",
      "Loss at 6099 iter. is 0.14664898812770844\n",
      "Loss at 6149 iter. is 0.1465504765510559\n",
      "Loss at 6199 iter. is 0.1464526355266571\n",
      "Loss at 6249 iter. is 0.1463555097579956\n",
      "Loss at 6299 iter. is 0.14625906944274902\n",
      "Loss at 6349 iter. is 0.14616328477859497\n",
      "Loss at 6399 iter. is 0.14606817066669464\n",
      "Loss at 6449 iter. is 0.14597372710704803\n",
      "Loss at 6499 iter. is 0.14587996900081635\n",
      "Loss at 6549 iter. is 0.145786851644516\n",
      "Loss at 6599 iter. is 0.14569438993930817\n",
      "Loss at 6649 iter. is 0.14560261368751526\n",
      "Loss at 6699 iter. is 0.1455114185810089\n",
      "Loss at 6749 iter. is 0.14542090892791748\n",
      "Loss at 6799 iter. is 0.1453309953212738\n",
      "Loss at 6849 iter. is 0.14524178206920624\n",
      "Loss at 6899 iter. is 0.14515312016010284\n",
      "Loss at 6949 iter. is 0.14506512880325317\n",
      "Loss at 6999 iter. is 0.14497773349285126\n",
      "Loss at 7049 iter. is 0.1448909491300583\n",
      "Loss at 7099 iter. is 0.14480477571487427\n",
      "Loss at 7149 iter. is 0.1447192281484604\n",
      "Loss at 7199 iter. is 0.14463426172733307\n",
      "Loss at 7249 iter. is 0.1445498913526535\n",
      "Loss at 7299 iter. is 0.1444661170244217\n",
      "Loss at 7349 iter. is 0.14438293874263763\n",
      "Loss at 7399 iter. is 0.14430034160614014\n",
      "Loss at 7449 iter. is 0.1442182958126068\n",
      "Loss at 7499 iter. is 0.14413684606552124\n",
      "Loss at 7549 iter. is 0.14405599236488342\n",
      "Loss at 7599 iter. is 0.14397569000720978\n",
      "Loss at 7649 iter. is 0.1438959240913391\n",
      "Loss at 7699 iter. is 0.1438167244195938\n",
      "Loss at 7749 iter. is 0.14373810589313507\n",
      "Loss at 7799 iter. is 0.14366000890731812\n",
      "Loss at 7849 iter. is 0.14358249306678772\n",
      "Loss at 7899 iter. is 0.1435054987668991\n",
      "Loss at 7949 iter. is 0.14342905580997467\n",
      "Loss at 7999 iter. is 0.1433531492948532\n",
      "Loss at 8049 iter. is 0.14327774941921234\n",
      "Loss at 8099 iter. is 0.14320290088653564\n",
      "Loss at 8149 iter. is 0.14312858879566193\n",
      "Loss at 8199 iter. is 0.1430547684431076\n",
      "Loss at 8249 iter. is 0.14298146963119507\n",
      "Loss at 8299 iter. is 0.1429087221622467\n",
      "Loss at 8349 iter. is 0.14283643662929535\n",
      "Loss at 8399 iter. is 0.14276470243930817\n",
      "Loss at 8449 iter. is 0.1426934152841568\n",
      "Loss at 8499 iter. is 0.14262264966964722\n",
      "Loss at 8549 iter. is 0.1425524204969406\n",
      "Loss at 8599 iter. is 0.14248263835906982\n",
      "Loss at 8649 iter. is 0.14241334795951843\n",
      "Loss at 8699 iter. is 0.14234457910060883\n",
      "Loss at 8749 iter. is 0.14227624237537384\n",
      "Loss at 8799 iter. is 0.14220838248729706\n",
      "Loss at 8849 iter. is 0.14214102923870087\n",
      "Loss at 8899 iter. is 0.14207415282726288\n",
      "Loss at 8949 iter. is 0.14200769364833832\n",
      "Loss at 8999 iter. is 0.14194175601005554\n",
      "Loss at 9049 iter. is 0.14187628030776978\n",
      "Loss at 9099 iter. is 0.14181122183799744\n",
      "Loss at 9149 iter. is 0.1417466551065445\n",
      "Loss at 9199 iter. is 0.14168250560760498\n",
      "Loss at 9249 iter. is 0.14161883294582367\n",
      "Loss at 9299 iter. is 0.1415555775165558\n",
      "Loss at 9349 iter. is 0.1414927840232849\n",
      "Loss at 9399 iter. is 0.14143043756484985\n",
      "Loss at 9449 iter. is 0.14136850833892822\n",
      "Loss at 9499 iter. is 0.1413070261478424\n",
      "Loss at 9549 iter. is 0.14124596118927002\n",
      "Loss at 9599 iter. is 0.14118532836437225\n",
      "Loss at 9649 iter. is 0.1411251276731491\n",
      "Loss at 9699 iter. is 0.14106535911560059\n",
      "Loss at 9749 iter. is 0.1410059779882431\n",
      "Loss at 9799 iter. is 0.14094702899456024\n",
      "Loss at 9849 iter. is 0.14088843762874603\n",
      "Loss at 9899 iter. is 0.14083035290241241\n",
      "Loss at 9949 iter. is 0.14077262580394745\n",
      "Loss at 9999 iter. is 0.14071525633335114\n"
     ]
    },
    {
     "data": {
      "text/plain": [
       "<tf.Tensor: id=400013, shape=(), dtype=float32, numpy=0.14071526>"
      ]
     },
     "execution_count": 18,
     "metadata": {},
     "output_type": "execute_result"
    }
   ],
   "source": [
    "fit(x_train, y_train)"
   ]
  },
  {
   "cell_type": "markdown",
   "metadata": {},
   "source": [
    "### Напишите функцию для оцени качества модели\n",
    "\n",
    "Функция должна принимать на вход данные и значение целевой переменной возвращать значение ошибки (скаляр). Сравните ошибку на обучающей и валидационной выборке, сделайте выводы о том, переобучена ли модель."
   ]
  },
  {
   "cell_type": "markdown",
   "metadata": {},
   "source": [
    "Буду использовать $R^2$ - коэффициент детерминации. Высчитывается по формуле $1 -\\frac{\\sum_{i=1}^{n}(y^{(i)} - \\hat{y}^{(i)})^2}{\\sum_{i=1}^{n}(y^{(i)} - \\bar{y}^{(i)})^2}$"
   ]
  },
  {
   "cell_type": "code",
   "execution_count": 19,
   "metadata": {},
   "outputs": [],
   "source": [
    "def evaluate(x, y):\n",
    "    x = tf.constant(x, dtype=tf.float32)\n",
    "    y = tf.constant(y, dtype=tf.float32)\n",
    "    y_hat = model(x)\n",
    "    sum2 =(tf.reduce_sum((y - tf.reduce_mean(y))**2))\n",
    "    sum1 = (tf.reduce_sum((y - y_hat)**2))\n",
    "    return(1 - sum1/sum2)"
   ]
  },
  {
   "cell_type": "code",
   "execution_count": 20,
   "metadata": {},
   "outputs": [
    {
     "data": {
      "text/plain": [
       "<tf.Tensor: id=400065, shape=(), dtype=float32, numpy=0.87333506>"
      ]
     },
     "execution_count": 20,
     "metadata": {},
     "output_type": "execute_result"
    }
   ],
   "source": [
    "evaluate(x_train, y_train)"
   ]
  },
  {
   "cell_type": "code",
   "execution_count": 21,
   "metadata": {},
   "outputs": [
    {
     "data": {
      "text/plain": [
       "<tf.Tensor: id=400094, shape=(), dtype=float32, numpy=0.7569876>"
      ]
     },
     "execution_count": 21,
     "metadata": {},
     "output_type": "execute_result"
    }
   ],
   "source": [
    "evaluate(x_val, y_val)"
   ]
  },
  {
   "cell_type": "markdown",
   "metadata": {},
   "source": [
    "## ВЫВОДЫ\n",
    "Да, разница в коэффициенте детерминации есть - у обучающей этот показзатель выше. С другой стороный показатель в 0.724 тоже очень хорош и модель может быть использована для прогонозов. Исходя из этого - да, модель преобучена"
   ]
  },
  {
   "cell_type": "markdown",
   "metadata": {},
   "source": [
    "# 2. Слой Linear\n",
    "\n",
    "* Дополните линейный слой так, чтобы у него появились веса для сдвига. Для этого используйте метод `add_weight`. Размерность вектора с весами для сдвига равно размерности слоя на выходе (параметр `units`). \n",
    "* Для инициализации сдвига _нулями_ передайте `tf.keras.initializers.Zeros()` в качестве значения для параметра `add_weight(..., initializer=...)` \n",
    "* Измените метод `call` так, чтобы он использовал сдвиги.\n",
    "* Обучите модель на тех же данных, что и в первом задании."
   ]
  },
  {
   "cell_type": "code",
   "execution_count": 22,
   "metadata": {},
   "outputs": [],
   "source": [
    "class Linear(tf.keras.layers.Layer):\n",
    "    def __init__(self, units, initializer='glorot_uniform', **kwargs):\n",
    "        super().__init__(**kwargs)\n",
    "        self.units = units\n",
    "        self.initializer = keras.initializers.get(initializer)\n",
    "    \n",
    "    def build(self, input_shape):\n",
    "        self.kernel = self.add_weight(\n",
    "        shape=(input_shape[-1], self.units),\n",
    "        initializer=self.initializer,\n",
    "        name=\"kernel\",\n",
    "        trainable=True,\n",
    "        )\n",
    "        self.baes = self.add_weight(\n",
    "        shape=(1, self.units),\n",
    "        initializer=tf.keras.initializers.Zeros(),\n",
    "        name=\"baes\",\n",
    "        trainable=True,\n",
    "        )\n",
    "\n",
    "  \n",
    "    def call(self, inputs):#добавить сдвиг\n",
    "        #y = tf.matmul(inputs  , self.kernel)\n",
    "        #z = tf.add(self.baes, y)\n",
    "        return tf.matmul(inputs  , self.kernel)\n",
    "       # print(z.shape)\n",
    "        #return z"
   ]
  },
  {
   "cell_type": "markdown",
   "metadata": {},
   "source": [
    "## Запустите модель и сравните результаты с моделью из п.1"
   ]
  },
  {
   "cell_type": "code",
   "execution_count": 23,
   "metadata": {},
   "outputs": [],
   "source": [
    "import tensorflow.keras as keras\n",
    "import os\n",
    "import datetime\n",
    "\n",
    "\n",
    "logdir = os.path.join(\"logs\", datetime.datetime.now().strftime(\"%Y%m%d-%H%M%S\"))\n",
    "tensorboard = keras.callbacks.TensorBoard(logdir, histogram_freq=1)\n",
    "\n",
    "linear_layer = Linear(1)\n",
    "early_stopping = keras.callbacks.EarlyStopping(monitor='val_loss', \n",
    "                                               min_delta=1e-4)\n",
    "model = keras.models.Sequential([linear_layer])\n",
    "model.compile(optimizer=tf.keras.optimizers.SGD(learning_rate=0.01), \n",
    "              loss='mse')"
   ]
  },
  {
   "cell_type": "markdown",
   "metadata": {},
   "source": [
    "> **Обратите внимание**, что добавился параметр `validation_data`, а в `EarlyStopping` в ячейке выше значение параметра `monitor` заменено на `val_loss`!"
   ]
  },
  {
   "cell_type": "code",
   "execution_count": 24,
   "metadata": {},
   "outputs": [
    {
     "name": "stdout",
     "output_type": "stream",
     "text": [
      "Train on 127 samples, validate on 32 samples\n",
      "WARNING:tensorflow:Model failed to serialize as JSON. Ignoring... Layers with arguments in `__init__` must override `get_config`.\n",
      "Epoch 1/100\n",
      "WARNING:tensorflow:Gradients do not exist for variables ['sequential/linear/baes:0'] when minimizing the loss.\n",
      "WARNING:tensorflow:Gradients do not exist for variables ['sequential/linear/baes:0'] when minimizing the loss.\n",
      "127/127 [==============================] - 1s 11ms/sample - loss: 6.6382 - val_loss: 3.3453\n",
      "Epoch 2/100\n",
      "127/127 [==============================] - 0s 497us/sample - loss: 5.6101 - val_loss: 2.8137\n",
      "Epoch 3/100\n",
      "127/127 [==============================] - 0s 190us/sample - loss: 4.7449 - val_loss: 2.3678\n",
      "Epoch 4/100\n",
      "127/127 [==============================] - 0s 272us/sample - loss: 4.0166 - val_loss: 1.9938\n",
      "Epoch 5/100\n",
      "127/127 [==============================] - 0s 190us/sample - loss: 3.4037 - val_loss: 1.6803\n",
      "Epoch 6/100\n",
      "127/127 [==============================] - 0s 228us/sample - loss: 2.8878 - val_loss: 1.4177\n",
      "Epoch 7/100\n",
      "127/127 [==============================] - 0s 250us/sample - loss: 2.4535 - val_loss: 1.1977\n",
      "Epoch 8/100\n",
      "127/127 [==============================] - 0s 309us/sample - loss: 2.0880 - val_loss: 1.0136\n",
      "Epoch 9/100\n",
      "127/127 [==============================] - 0s 235us/sample - loss: 1.7803 - val_loss: 0.8596\n",
      "Epoch 10/100\n",
      "127/127 [==============================] - 0s 288us/sample - loss: 1.5212 - val_loss: 0.7308\n",
      "Epoch 11/100\n",
      "127/127 [==============================] - 0s 336us/sample - loss: 1.3032 - val_loss: 0.6232\n",
      "Epoch 12/100\n",
      "127/127 [==============================] - 0s 244us/sample - loss: 1.1196 - val_loss: 0.5334\n",
      "Epoch 13/100\n",
      "127/127 [==============================] - 0s 309us/sample - loss: 0.9650 - val_loss: 0.4585\n",
      "Epoch 14/100\n",
      "127/127 [==============================] - 0s 315us/sample - loss: 0.8348 - val_loss: 0.3961\n",
      "Epoch 15/100\n",
      "127/127 [==============================] - 0s 290us/sample - loss: 0.7252 - val_loss: 0.3442\n",
      "Epoch 16/100\n",
      "127/127 [==============================] - 0s 234us/sample - loss: 0.6329 - val_loss: 0.3010\n",
      "Epoch 17/100\n",
      "127/127 [==============================] - 0s 259us/sample - loss: 0.5551 - val_loss: 0.2652\n",
      "Epoch 18/100\n",
      "127/127 [==============================] - 0s 263us/sample - loss: 0.4896 - val_loss: 0.2355\n",
      "Epoch 19/100\n",
      "127/127 [==============================] - 0s 275us/sample - loss: 0.4344 - val_loss: 0.2109\n",
      "Epoch 20/100\n",
      "127/127 [==============================] - 0s 286us/sample - loss: 0.3879 - val_loss: 0.1907\n",
      "Epoch 21/100\n",
      "127/127 [==============================] - 0s 324us/sample - loss: 0.3487 - val_loss: 0.1740\n",
      "Epoch 22/100\n",
      "127/127 [==============================] - 0s 292us/sample - loss: 0.3157 - val_loss: 0.1602\n",
      "Epoch 23/100\n",
      "127/127 [==============================] - 0s 441us/sample - loss: 0.2878 - val_loss: 0.1490\n",
      "Epoch 24/100\n",
      "127/127 [==============================] - 0s 296us/sample - loss: 0.2643 - val_loss: 0.1398\n",
      "Epoch 25/100\n",
      "127/127 [==============================] - 0s 277us/sample - loss: 0.2445 - val_loss: 0.1323\n",
      "Epoch 26/100\n",
      "127/127 [==============================] - 0s 326us/sample - loss: 0.2278 - val_loss: 0.1263\n",
      "Epoch 27/100\n",
      "127/127 [==============================] - 0s 294us/sample - loss: 0.2137 - val_loss: 0.1214\n",
      "Epoch 28/100\n",
      "127/127 [==============================] - 0s 327us/sample - loss: 0.2017 - val_loss: 0.1175\n",
      "Epoch 29/100\n",
      "127/127 [==============================] - 0s 336us/sample - loss: 0.1917 - val_loss: 0.1144\n",
      "Epoch 30/100\n",
      "127/127 [==============================] - 0s 295us/sample - loss: 0.1831 - val_loss: 0.1119\n",
      "Epoch 31/100\n",
      "127/127 [==============================] - 0s 297us/sample - loss: 0.1759 - val_loss: 0.1100\n",
      "Epoch 32/100\n",
      "127/127 [==============================] - 0s 342us/sample - loss: 0.1698 - val_loss: 0.1086\n",
      "Epoch 33/100\n",
      "127/127 [==============================] - 0s 330us/sample - loss: 0.1647 - val_loss: 0.1075\n",
      "Epoch 34/100\n",
      "127/127 [==============================] - 0s 302us/sample - loss: 0.1603 - val_loss: 0.1067\n",
      "Epoch 35/100\n",
      "127/127 [==============================] - 0s 318us/sample - loss: 0.1566 - val_loss: 0.1061\n",
      "Epoch 36/100\n",
      "127/127 [==============================] - 0s 278us/sample - loss: 0.1534 - val_loss: 0.1057\n",
      "Epoch 37/100\n",
      "127/127 [==============================] - 0s 250us/sample - loss: 0.1507 - val_loss: 0.1055\n",
      "Epoch 38/100\n",
      "127/127 [==============================] - 0s 262us/sample - loss: 0.1484 - val_loss: 0.1054\n",
      "Epoch 39/100\n",
      "127/127 [==============================] - 0s 280us/sample - loss: 0.1465 - val_loss: 0.1053\n"
     ]
    }
   ],
   "source": [
    "history = model.fit(x_train, np.expand_dims(y_train, axis=-1), \n",
    "                    validation_data=(x_val, y_val),\n",
    "                    batch_size=512,\n",
    "                    epochs=100,\n",
    "                    callbacks=[early_stopping, tensorboard],\n",
    "                    verbose=1)"
   ]
  },
  {
   "cell_type": "markdown",
   "metadata": {},
   "source": [
    "## Tensorboard\n",
    "> Выведите полученные результаты в tensorboard. Это сервис, который позволяет визуализировать процесс обучения модели, состояние графа и не только. \n",
    "\n",
    "Для запуска нужно \n",
    "* Установить расширение\n",
    "* Выполнить команду запуска, передав ей имя директории, в которую записывал логи `callbacks.Tensorboard`.\n",
    "\n",
    "Более подробно изучим tensorboard на будущих занятиях. Пока можете посмотреть вкладки scalars, graphs, distributions, histograms. В них содержится информация о метриках модели, графе, распередлениях и гистограммах параметров."
   ]
  },
  {
   "cell_type": "code",
   "execution_count": 25,
   "metadata": {},
   "outputs": [],
   "source": [
    "%load_ext tensorboard"
   ]
  },
  {
   "cell_type": "code",
   "execution_count": 26,
   "metadata": {},
   "outputs": [
    {
     "data": {
      "text/plain": [
       "Text(0.5, 0, 'epoch')"
      ]
     },
     "execution_count": 26,
     "metadata": {},
     "output_type": "execute_result"
    },
    {
     "data": {
      "image/png": "[encoded data removed]",
      "text/plain": [
       "<Figure size 432x288 with 1 Axes>"
      ]
     },
     "metadata": {
      "needs_background": "light"
     },
     "output_type": "display_data"
    }
   ],
   "source": [
    "plt.plot(history.history['loss'])\n",
    "plt.title('loss')\n",
    "plt.ylabel('mse')\n",
    "plt.xlabel('epoch')"
   ]
  },
  {
   "cell_type": "code",
   "execution_count": 27,
   "metadata": {},
   "outputs": [
    {
     "data": {
      "text/html": [
       "\n",
       "      <iframe id=\"tensorboard-frame-118b3353ee4014e7\" width=\"100%\" height=\"800\" frameborder=\"0\">\n",
       "      </iframe>\n",
       "      <script>\n",
       "        (function() {\n",
       "          const frame = document.getElementById(\"tensorboard-frame-118b3353ee4014e7\");\n",
       "          const url = new URL(\"/\", window.location);\n",
       "          url.port = 6006;\n",
       "          frame.src = url;\n",
       "        })();\n",
       "      </script>\n",
       "  "
      ],
      "text/plain": [
       "<IPython.core.display.HTML object>"
      ]
     },
     "metadata": {},
     "output_type": "display_data"
    }
   ],
   "source": [
    "%tensorboard --logdir='logs' "
   ]
  }
 ],
 "metadata": {
  "kernelspec": {
   "display_name": "Python 3",
   "language": "python",
   "name": "python3"
  },
  "language_info": {
   "codemirror_mode": {
    "name": "ipython",
    "version": 3
   },
   "file_extension": ".py",
   "mimetype": "text/x-python",
   "name": "python",
   "nbconvert_exporter": "python",
   "pygments_lexer": "ipython3",
   "version": "3.7.4"
  }
 },
 "nbformat": 4,
 "nbformat_minor": 4
}
