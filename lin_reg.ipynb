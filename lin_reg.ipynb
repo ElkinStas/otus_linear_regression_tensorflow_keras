{
 "cells": [
  {
   "cell_type": "markdown",
   "metadata": {},
   "source": [
    "## Линейная регрессия"
   ]
  },
  {
   "cell_type": "code",
   "execution_count": 64,
   "metadata": {},
   "outputs": [],
   "source": [
    "import pandas as pd\n",
    "dataset = pd.read_csv('Fish.csv')"
   ]
  },
  {
   "cell_type": "code",
   "execution_count": 65,
   "metadata": {},
   "outputs": [
    {
     "data": {
      "text/html": [
       "<div>\n",
       "<style scoped>\n",
       "    .dataframe tbody tr th:only-of-type {\n",
       "        vertical-align: middle;\n",
       "    }\n",
       "\n",
       "    .dataframe tbody tr th {\n",
       "        vertical-align: top;\n",
       "    }\n",
       "\n",
       "    .dataframe thead th {\n",
       "        text-align: right;\n",
       "    }\n",
       "</style>\n",
       "<table border=\"1\" class=\"dataframe\">\n",
       "  <thead>\n",
       "    <tr style=\"text-align: right;\">\n",
       "      <th></th>\n",
       "      <th>Species</th>\n",
       "      <th>Weight</th>\n",
       "      <th>Length1</th>\n",
       "      <th>Length2</th>\n",
       "      <th>Length3</th>\n",
       "      <th>Height</th>\n",
       "      <th>Width</th>\n",
       "    </tr>\n",
       "  </thead>\n",
       "  <tbody>\n",
       "    <tr>\n",
       "      <th>0</th>\n",
       "      <td>Bream</td>\n",
       "      <td>242.0</td>\n",
       "      <td>23.2</td>\n",
       "      <td>25.4</td>\n",
       "      <td>30.0</td>\n",
       "      <td>11.5200</td>\n",
       "      <td>4.0200</td>\n",
       "    </tr>\n",
       "    <tr>\n",
       "      <th>1</th>\n",
       "      <td>Bream</td>\n",
       "      <td>290.0</td>\n",
       "      <td>24.0</td>\n",
       "      <td>26.3</td>\n",
       "      <td>31.2</td>\n",
       "      <td>12.4800</td>\n",
       "      <td>4.3056</td>\n",
       "    </tr>\n",
       "    <tr>\n",
       "      <th>2</th>\n",
       "      <td>Bream</td>\n",
       "      <td>340.0</td>\n",
       "      <td>23.9</td>\n",
       "      <td>26.5</td>\n",
       "      <td>31.1</td>\n",
       "      <td>12.3778</td>\n",
       "      <td>4.6961</td>\n",
       "    </tr>\n",
       "    <tr>\n",
       "      <th>3</th>\n",
       "      <td>Bream</td>\n",
       "      <td>363.0</td>\n",
       "      <td>26.3</td>\n",
       "      <td>29.0</td>\n",
       "      <td>33.5</td>\n",
       "      <td>12.7300</td>\n",
       "      <td>4.4555</td>\n",
       "    </tr>\n",
       "    <tr>\n",
       "      <th>4</th>\n",
       "      <td>Bream</td>\n",
       "      <td>430.0</td>\n",
       "      <td>26.5</td>\n",
       "      <td>29.0</td>\n",
       "      <td>34.0</td>\n",
       "      <td>12.4440</td>\n",
       "      <td>5.1340</td>\n",
       "    </tr>\n",
       "  </tbody>\n",
       "</table>\n",
       "</div>"
      ],
      "text/plain": [
       "  Species  Weight  Length1  Length2  Length3   Height   Width\n",
       "0   Bream   242.0     23.2     25.4     30.0  11.5200  4.0200\n",
       "1   Bream   290.0     24.0     26.3     31.2  12.4800  4.3056\n",
       "2   Bream   340.0     23.9     26.5     31.1  12.3778  4.6961\n",
       "3   Bream   363.0     26.3     29.0     33.5  12.7300  4.4555\n",
       "4   Bream   430.0     26.5     29.0     34.0  12.4440  5.1340"
      ]
     },
     "execution_count": 65,
     "metadata": {},
     "output_type": "execute_result"
    }
   ],
   "source": [
    "dataset.head()"
   ]
  },
  {
   "cell_type": "markdown",
   "metadata": {},
   "source": [
    "### постараемся предсказать вес рыбы по другим параметрам"
   ]
  },
  {
   "cell_type": "code",
   "execution_count": 66,
   "metadata": {},
   "outputs": [],
   "source": [
    "y = dataset['Weight'].values\n",
    "x = dataset[['Length1','Length2', 'Length3','Height','Width']].values"
   ]
  },
  {
   "cell_type": "markdown",
   "metadata": {},
   "source": [
    "### нормализуем данные"
   ]
  },
  {
   "cell_type": "code",
   "execution_count": 67,
   "metadata": {},
   "outputs": [],
   "source": [
    "x = (x - x.mean()) / x.std()\n",
    "y = (y - y.mean()) / y.std()"
   ]
  },
  {
   "cell_type": "code",
   "execution_count": 68,
   "metadata": {},
   "outputs": [
    {
     "data": {
      "text/plain": [
       "(array([27., 32., 13., 18.,  6.,  6., 12.,  6., 12.,  4.,  5.,  6.,  6.,\n",
       "         2.,  0.,  1.,  0.,  0.,  1.,  2.]),\n",
       " array([-1.1162267 , -0.88503765, -0.65384861, -0.42265957, -0.19147053,\n",
       "         0.03971852,  0.27090756,  0.5020966 ,  0.73328564,  0.96447468,\n",
       "         1.19566373,  1.42685277,  1.65804181,  1.88923085,  2.1204199 ,\n",
       "         2.35160894,  2.58279798,  2.81398702,  3.04517606,  3.27636511,\n",
       "         3.50755415]),\n",
       " <a list of 20 Patch objects>)"
      ]
     },
     "execution_count": 68,
     "metadata": {},
     "output_type": "execute_result"
    },
    {
     "data": {
      "image/png": "[encoded data removed]",
      "text/plain": [
       "<Figure size 432x288 with 1 Axes>"
      ]
     },
     "metadata": {
      "needs_background": "light"
     },
     "output_type": "display_data"
    }
   ],
   "source": [
    "import matplotlib.pyplot as plt\n",
    "%matplotlib inline\n",
    "\n",
    "plt.hist(y, bins=20)"
   ]
  },
  {
   "cell_type": "code",
   "execution_count": 69,
   "metadata": {},
   "outputs": [],
   "source": [
    "import numpy as np\n",
    "np.random.seed(42)"
   ]
  },
  {
   "cell_type": "markdown",
   "metadata": {},
   "source": [
    "### \n",
    "Данные нужно разделить в отношении 80/20 на обучающую и валидационную выборки. "
   ]
  },
  {
   "cell_type": "code",
   "execution_count": 70,
   "metadata": {},
   "outputs": [],
   "source": [
    "pivot = int(len(y) * 0.8)\n",
    "index = np.arange(len(dataset))\n",
    "np.random.shuffle(index)\n",
    "\n",
    "train_index, val_index = index[:pivot], index[pivot:]\n",
    "\n",
    "y_train, y_val = y[train_index], y[val_index]\n",
    "x_train, x_val = x[train_index], x[val_index]"
   ]
  },
  {
   "cell_type": "code",
   "execution_count": 71,
   "metadata": {},
   "outputs": [],
   "source": [
    "import tensorflow as tf"
   ]
  },
  {
   "cell_type": "markdown",
   "metadata": {},
   "source": [
    "### Инициализация\n",
    "\n",
    "Воспользуйтесь x.shape, чтобы задать правильную размерность вектора с параметрами. Проинициализируйте его случайными значениями.\n",
    "\n",
    "**Значение сдвига** `b = 0`; часто сдвиг или вектор сдвигов инициализируют нулями или средним по выборке значением, если оно отлично от нуля."
   ]
  },
  {
   "cell_type": "code",
   "execution_count": 72,
   "metadata": {},
   "outputs": [
    {
     "data": {
      "text/plain": [
       "(5,)"
      ]
     },
     "execution_count": 72,
     "metadata": {},
     "output_type": "execute_result"
    }
   ],
   "source": [
    "import random\n",
    "x.shape[1:]"
   ]
  },
  {
   "cell_type": "code",
   "execution_count": 73,
   "metadata": {},
   "outputs": [],
   "source": [
    "initial_value = tf.random.normal(shape=(5,))\n",
    "w = tf.Variable(initial_value, dtype=tf.float32)"
   ]
  },
  {
   "cell_type": "code",
   "execution_count": 74,
   "metadata": {},
   "outputs": [],
   "source": [
    "initial_value = tf.random.normal(shape=(5,))\n",
    "w =  tf.Variable(initial_value, dtype=tf.float32)\n",
    "b = tf.Variable(0, dtype=tf.float32)\n",
    "learning_rate = tf.constant(1e-4)"
   ]
  },
  {
   "cell_type": "code",
   "execution_count": 75,
   "metadata": {},
   "outputs": [
    {
     "data": {
      "text/plain": [
       "<tf.Variable 'Variable:0' shape=(5,) dtype=float32, numpy=\n",
       "array([-0.23156889, -0.52392614, -0.41333276,  0.5086587 ,  0.66632   ],\n",
       "      dtype=float32)>"
      ]
     },
     "execution_count": 75,
     "metadata": {},
     "output_type": "execute_result"
    }
   ],
   "source": [
    "w"
   ]
  },
  {
   "cell_type": "code",
   "execution_count": 76,
   "metadata": {},
   "outputs": [
    {
     "data": {
      "text/plain": [
       "tf.float32"
      ]
     },
     "execution_count": 76,
     "metadata": {},
     "output_type": "execute_result"
    }
   ],
   "source": [
    "w.dtype\n"
   ]
  },
  {
   "cell_type": "code",
   "execution_count": 77,
   "metadata": {},
   "outputs": [],
   "source": [
    "def fit(x, y, threshold=0.001, n_steps=10000):\n",
    "    x = tf.constant(x, dtype=tf.float32)\n",
    "    y = tf.constant(y, dtype=tf.float32)\n",
    "    for step in range(n_steps):\n",
    "        loss = train_step(x, y)\n",
    "        if loss < threshold:\n",
    "            break\n",
    "        if (step + 1) % 50 == 0:\n",
    "            print(f\"Loss at {step} iter. is {loss.numpy()}\")\n",
    "    return loss"
   ]
  },
  {
   "cell_type": "markdown",
   "metadata": {},
   "source": [
    "### Train step\n",
    "\n",
    "Дополните `train_step` так, чтобы функция вычисляла значение $\\hat{y}$ для переданного $x$, и затем значение функции ошибки с помощью функции `calc_loss`.\n",
    "\n",
    "Добавитье обновление параметров в строчке `w = ...`. *Если возвращаемое значение* функции ошибки равно `nan` или `inf`, подумайте, что могло привести к такой ситуации и что нужно исправить."
   ]
  },
  {
   "cell_type": "code",
   "execution_count": 78,
   "metadata": {},
   "outputs": [],
   "source": [
    "def train_step(x, y):\n",
    "    global w\n",
    "    with tf.GradientTape() as tape:\n",
    "        y_hat = model(x)\n",
    "        loss = calc_loss(y, y_hat)\n",
    "        grads = tape.gradient(loss, w)\n",
    "        #print(grads)\n",
    "    w.assign_sub(grads * 0.001)\n",
    "    return loss"
   ]
  },
  {
   "cell_type": "markdown",
   "metadata": {},
   "source": [
    "Умножение вектора на вектор или вектора на строку в `tf` - это сложная операция. В отличие от матричного умножения, которое можно записать просто как `C = A @ B` или `C = tf.matmul(A, B)`, здесь нужно вызывать функцию `tf.tensordot`, которая способна умножать тензоры любой размерности. Затем функции надо указать ось, по которой выполняется сложение: в данном случае, 1 - т.е. для произведения матрицы на вектор нужно выполнить операцию\n",
    "\n",
    "`tf.tensordot(x, w, 1)`\n",
    "\n",
    "Воспользовавшись этим способом, напишите модель для линейной регрессии. Кстати, это не единственный возможный вариант [расчета скалярного произведения в tensorflow](https://stackoverflow.com/questions/40670370/dot-product-of-two-vectors-in-tensorflow)."
   ]
  },
  {
   "cell_type": "code",
   "execution_count": 79,
   "metadata": {},
   "outputs": [],
   "source": [
    "def model(x):\n",
    "    global w\n",
    "    return(tf.tensordot(x, w, 1))"
   ]
  },
  {
   "cell_type": "markdown",
   "metadata": {},
   "source": [
    "Напишите функцию, которая вычисляет значение MSE для двух переданных векторов со значениями $y, \\hat{y}$ (истинные и спрогнозированные значения). Функция должна возвращать _одно_ значение (скаляр), как и в формуле $\\frac{1}{n}\\sum_{i=1}^{n}(y^{(i)} - \\hat{y}^{(i)})^2$ \n",
    "\n",
    "* разность векторов и возведение в квадрат можно сделать при помощи обычных операторов `-`, `**2`\n",
    "* Для того, чтобы в тензорфлоу выполнить аналог операции $\\frac{1}{n}\\sum_{i=1}^n (...)$, воспользуйтесь функцией `tf.reduce_mean`. Заодно можете изучить, какие еще есть `tf.reduce_...` функции :)"
   ]
  },
  {
   "cell_type": "code",
   "execution_count": 80,
   "metadata": {},
   "outputs": [],
   "source": [
    "def calc_loss(y, y_hat):\n",
    "    x = tf.reduce_mean((y - y_hat)**2)\n",
    "    return(x)"
   ]
  },
  {
   "cell_type": "markdown",
   "metadata": {},
   "source": [
    "## обучим модель"
   ]
  },
  {
   "cell_type": "code",
   "execution_count": 81,
   "metadata": {},
   "outputs": [
    {
     "name": "stdout",
     "output_type": "stream",
     "text": [
      "Loss at 49 iter. is 3.340325117111206\n",
      "Loss at 99 iter. is 1.5754640102386475\n",
      "Loss at 149 iter. is 0.7970000505447388\n",
      "Loss at 199 iter. is 0.4504590332508087\n",
      "Loss at 249 iter. is 0.29370495676994324\n",
      "Loss at 299 iter. is 0.22086308896541595\n",
      "Loss at 349 iter. is 0.18553173542022705\n",
      "Loss at 399 iter. is 0.1672891080379486\n",
      "Loss at 449 iter. is 0.15708030760288239\n",
      "Loss at 499 iter. is 0.15083736181259155\n",
      "Loss at 549 iter. is 0.14669139683246613\n",
      "Loss at 599 iter. is 0.14375178515911102\n",
      "Loss at 649 iter. is 0.1415702998638153\n",
      "Loss at 699 iter. is 0.13990360498428345\n",
      "Loss at 749 iter. is 0.13860782980918884\n",
      "Loss at 799 iter. is 0.13759006559848785\n",
      "Loss at 849 iter. is 0.13678589463233948\n",
      "Loss at 899 iter. is 0.13614825904369354\n",
      "Loss at 949 iter. is 0.13564150035381317\n",
      "Loss at 999 iter. is 0.1352381855249405\n",
      "Loss at 1049 iter. is 0.13491667807102203\n",
      "Loss at 1099 iter. is 0.13466010987758636\n",
      "Loss at 1149 iter. is 0.13445504009723663\n",
      "Loss at 1199 iter. is 0.1342909187078476\n",
      "Loss at 1249 iter. is 0.13415929675102234\n",
      "Loss at 1299 iter. is 0.13405349850654602\n",
      "Loss at 1349 iter. is 0.13396817445755005\n",
      "Loss at 1399 iter. is 0.13389918208122253\n",
      "Loss at 1449 iter. is 0.1338430941104889\n",
      "Loss at 1499 iter. is 0.13379737734794617\n",
      "Loss at 1549 iter. is 0.1337597817182541\n",
      "Loss at 1599 iter. is 0.13372871279716492\n",
      "Loss at 1649 iter. is 0.1337028294801712\n",
      "Loss at 1699 iter. is 0.133681058883667\n",
      "Loss at 1749 iter. is 0.13366256654262543\n",
      "Loss at 1799 iter. is 0.13364668190479279\n",
      "Loss at 1849 iter. is 0.13363289833068848\n",
      "Loss at 1899 iter. is 0.13362078368663788\n",
      "Loss at 1949 iter. is 0.13360995054244995\n",
      "Loss at 1999 iter. is 0.13360020518302917\n",
      "Loss at 2049 iter. is 0.13359130918979645\n",
      "Loss at 2099 iter. is 0.13358309864997864\n",
      "Loss at 2149 iter. is 0.133575439453125\n",
      "Loss at 2199 iter. is 0.13356821238994598\n",
      "Loss at 2249 iter. is 0.13356134295463562\n",
      "Loss at 2299 iter. is 0.13355475664138794\n",
      "Loss at 2349 iter. is 0.13354839384555817\n",
      "Loss at 2399 iter. is 0.1335422843694687\n",
      "Loss at 2449 iter. is 0.13353629410266876\n",
      "Loss at 2499 iter. is 0.13353043794631958\n",
      "Loss at 2549 iter. is 0.13352468609809875\n",
      "Loss at 2599 iter. is 0.13351906836032867\n",
      "Loss at 2649 iter. is 0.13351354002952576\n",
      "Loss at 2699 iter. is 0.13350802659988403\n",
      "Loss at 2749 iter. is 0.13350261747837067\n",
      "Loss at 2799 iter. is 0.13349725306034088\n",
      "Loss at 2849 iter. is 0.13349191844463348\n",
      "Loss at 2899 iter. is 0.13348665833473206\n",
      "Loss at 2949 iter. is 0.13348142802715302\n",
      "Loss at 2999 iter. is 0.13347627222537994\n",
      "Loss at 3049 iter. is 0.13347113132476807\n",
      "Loss at 3099 iter. is 0.13346602022647858\n",
      "Loss at 3149 iter. is 0.13346095383167267\n",
      "Loss at 3199 iter. is 0.13345590233802795\n",
      "Loss at 3249 iter. is 0.13345091044902802\n",
      "Loss at 3299 iter. is 0.13344593346118927\n",
      "Loss at 3349 iter. is 0.1334410011768341\n",
      "Loss at 3399 iter. is 0.13343606889247894\n",
      "Loss at 3449 iter. is 0.13343118131160736\n",
      "Loss at 3499 iter. is 0.13342633843421936\n",
      "Loss at 3549 iter. is 0.13342152535915375\n",
      "Loss at 3599 iter. is 0.13341671228408813\n",
      "Loss at 3649 iter. is 0.1334119588136673\n",
      "Loss at 3699 iter. is 0.13340720534324646\n",
      "Loss at 3749 iter. is 0.133402481675148\n",
      "Loss at 3799 iter. is 0.13339781761169434\n",
      "Loss at 3849 iter. is 0.13339315354824066\n",
      "Loss at 3899 iter. is 0.13338853418827057\n",
      "Loss at 3949 iter. is 0.13338391482830048\n",
      "Loss at 3999 iter. is 0.13337932527065277\n",
      "Loss at 4049 iter. is 0.13337475061416626\n",
      "Loss at 4099 iter. is 0.13337022066116333\n",
      "Loss at 4149 iter. is 0.1333657205104828\n",
      "Loss at 4199 iter. is 0.13336126506328583\n",
      "Loss at 4249 iter. is 0.13335679471492767\n",
      "Loss at 4299 iter. is 0.13335241377353668\n",
      "Loss at 4349 iter. is 0.1333479881286621\n",
      "Loss at 4399 iter. is 0.1333436220884323\n",
      "Loss at 4449 iter. is 0.13333925604820251\n",
      "Loss at 4499 iter. is 0.1333349347114563\n",
      "Loss at 4549 iter. is 0.13333062827587128\n",
      "Loss at 4599 iter. is 0.13332635164260864\n",
      "Loss at 4649 iter. is 0.1333220899105072\n",
      "Loss at 4699 iter. is 0.13331784307956696\n",
      "Loss at 4749 iter. is 0.13331367075443268\n",
      "Loss at 4799 iter. is 0.1333094835281372\n",
      "Loss at 4849 iter. is 0.13330531120300293\n",
      "Loss at 4899 iter. is 0.13330116868019104\n",
      "Loss at 4949 iter. is 0.13329704105854034\n",
      "Loss at 4999 iter. is 0.13329294323921204\n",
      "Loss at 5049 iter. is 0.1332888901233673\n",
      "Loss at 5099 iter. is 0.13328483700752258\n",
      "Loss at 5149 iter. is 0.13328081369400024\n",
      "Loss at 5199 iter. is 0.1332767903804779\n",
      "Loss at 5249 iter. is 0.13327281177043915\n",
      "Loss at 5299 iter. is 0.1332688331604004\n",
      "Loss at 5349 iter. is 0.1332649141550064\n",
      "Loss at 5399 iter. is 0.13326099514961243\n",
      "Loss at 5449 iter. is 0.13325712084770203\n",
      "Loss at 5499 iter. is 0.13325323164463043\n",
      "Loss at 5549 iter. is 0.13324937224388123\n",
      "Loss at 5599 iter. is 0.1332455575466156\n",
      "Loss at 5649 iter. is 0.13324172794818878\n",
      "Loss at 5699 iter. is 0.13323794305324554\n",
      "Loss at 5749 iter. is 0.1332341730594635\n",
      "Loss at 5799 iter. is 0.13323040306568146\n",
      "Loss at 5849 iter. is 0.133226677775383\n",
      "Loss at 5899 iter. is 0.13322299718856812\n",
      "Loss at 5949 iter. is 0.13321928679943085\n",
      "Loss at 5999 iter. is 0.13321560621261597\n",
      "Loss at 6049 iter. is 0.13321195542812347\n",
      "Loss at 6099 iter. is 0.13320833444595337\n",
      "Loss at 6149 iter. is 0.13320472836494446\n",
      "Loss at 6199 iter. is 0.13320110738277435\n",
      "Loss at 6249 iter. is 0.13319754600524902\n",
      "Loss at 6299 iter. is 0.1331939995288849\n",
      "Loss at 6349 iter. is 0.13319045305252075\n",
      "Loss at 6399 iter. is 0.1331869214773178\n",
      "Loss at 6449 iter. is 0.13318343460559845\n",
      "Loss at 6499 iter. is 0.13317996263504028\n",
      "Loss at 6549 iter. is 0.13317647576332092\n",
      "Loss at 6599 iter. is 0.13317304849624634\n",
      "Loss at 6649 iter. is 0.13316960632801056\n",
      "Loss at 6699 iter. is 0.13316619396209717\n",
      "Loss at 6749 iter. is 0.13316279649734497\n",
      "Loss at 6799 iter. is 0.13315945863723755\n",
      "Loss at 6849 iter. is 0.13315610587596893\n",
      "Loss at 6899 iter. is 0.13315275311470032\n",
      "Loss at 6949 iter. is 0.1331494301557541\n",
      "Loss at 6999 iter. is 0.13314612209796906\n",
      "Loss at 7049 iter. is 0.13314282894134521\n",
      "Loss at 7099 iter. is 0.13313958048820496\n",
      "Loss at 7149 iter. is 0.1331363022327423\n",
      "Loss at 7199 iter. is 0.13313306868076324\n",
      "Loss at 7249 iter. is 0.13312985002994537\n",
      "Loss at 7299 iter. is 0.1331266462802887\n",
      "Loss at 7349 iter. is 0.1331234723329544\n",
      "Loss at 7399 iter. is 0.13312028348445892\n",
      "Loss at 7449 iter. is 0.13311712443828583\n",
      "Loss at 7499 iter. is 0.13311399519443512\n",
      "Loss at 7549 iter. is 0.1331108659505844\n",
      "Loss at 7599 iter. is 0.1331077665090561\n",
      "Loss at 7649 iter. is 0.13310468196868896\n",
      "Loss at 7699 iter. is 0.13310158252716064\n",
      "Loss at 7749 iter. is 0.1330985128879547\n",
      "Loss at 7799 iter. is 0.13309547305107117\n",
      "Loss at 7849 iter. is 0.13309246301651\n",
      "Loss at 7899 iter. is 0.13308942317962646\n",
      "Loss at 7949 iter. is 0.1330864131450653\n",
      "Loss at 7999 iter. is 0.13308343291282654\n",
      "Loss at 8049 iter. is 0.13308046758174896\n",
      "Loss at 8099 iter. is 0.13307751715183258\n",
      "Loss at 8149 iter. is 0.1330745667219162\n",
      "Loss at 8199 iter. is 0.133071631193161\n",
      "Loss at 8249 iter. is 0.13306871056556702\n",
      "Loss at 8299 iter. is 0.1330658197402954\n",
      "Loss at 8349 iter. is 0.1330629587173462\n",
      "Loss at 8399 iter. is 0.13306009769439697\n",
      "Loss at 8449 iter. is 0.13305720686912537\n",
      "Loss at 8499 iter. is 0.13305436074733734\n",
      "Loss at 8549 iter. is 0.1330515593290329\n",
      "Loss at 8599 iter. is 0.13304872810840607\n",
      "Loss at 8649 iter. is 0.13304592669010162\n",
      "Loss at 8699 iter. is 0.13304312527179718\n",
      "Loss at 8749 iter. is 0.13304035365581512\n",
      "Loss at 8799 iter. is 0.13303759694099426\n",
      "Loss at 8849 iter. is 0.1330348551273346\n",
      "Loss at 8899 iter. is 0.13303211331367493\n",
      "Loss at 8949 iter. is 0.13302941620349884\n",
      "Loss at 8999 iter. is 0.13302665948867798\n",
      "Loss at 9049 iter. is 0.13302399218082428\n",
      "Loss at 9099 iter. is 0.133021280169487\n",
      "Loss at 9149 iter. is 0.1330186277627945\n",
      "Loss at 9199 iter. is 0.1330159604549408\n",
      "Loss at 9249 iter. is 0.13301332294940948\n",
      "Loss at 9299 iter. is 0.13301068544387817\n",
      "Loss at 9349 iter. is 0.13300806283950806\n",
      "Loss at 9399 iter. is 0.13300544023513794\n",
      "Loss at 9449 iter. is 0.1330028623342514\n",
      "Loss at 9499 iter. is 0.13300028443336487\n",
      "Loss at 9549 iter. is 0.13299767673015594\n",
      "Loss at 9599 iter. is 0.13299515843391418\n",
      "Loss at 9649 iter. is 0.13299256563186646\n",
      "Loss at 9699 iter. is 0.1329900473356247\n",
      "Loss at 9749 iter. is 0.13298752903938293\n",
      "Loss at 9799 iter. is 0.13298499584197998\n",
      "Loss at 9849 iter. is 0.13298247754573822\n",
      "Loss at 9899 iter. is 0.13297998905181885\n",
      "Loss at 9949 iter. is 0.13297753036022186\n",
      "Loss at 9999 iter. is 0.1329750269651413\n"
     ]
    },
    {
     "data": {
      "text/plain": [
       "<tf.Tensor: id=1211920, shape=(), dtype=float32, numpy=0.13297503>"
      ]
     },
     "execution_count": 81,
     "metadata": {},
     "output_type": "execute_result"
    }
   ],
   "source": [
    "fit(x_train, y_train)"
   ]
  },
  {
   "cell_type": "markdown",
   "metadata": {},
   "source": [
    "### Напишите функцию для оцени качества модели\n",
    "\n",
    "Функция должна принимать на вход данные и значение целевой переменной возвращать значение ошибки (скаляр). Сравните ошибку на обучающей и валидационной выборке, сделайте выводы о том, переобучена ли модель."
   ]
  },
  {
   "cell_type": "markdown",
   "metadata": {},
   "source": [
    "Буду использовать $R^2$ - коэффициент детерминации. Высчитывается по формуле $1 -\\frac{\\sum_{i=1}^{n}(y^{(i)} - \\hat{y}^{(i)})^2}{\\sum_{i=1}^{n}(y^{(i)} - \\bar{y}^{(i)})^2}$"
   ]
  },
  {
   "cell_type": "code",
   "execution_count": 82,
   "metadata": {},
   "outputs": [],
   "source": [
    "def evaluate(x, y):\n",
    "    x = tf.constant(x, dtype=tf.float32)\n",
    "    y = tf.constant(y, dtype=tf.float32)\n",
    "    y_hat = model(x)\n",
    "    sum2 =(tf.reduce_sum((y - tf.reduce_mean(y))**2))\n",
    "    sum1 = (tf.reduce_sum((y - y_hat)**2))\n",
    "    return(1 - sum1/sum2)"
   ]
  },
  {
   "cell_type": "code",
   "execution_count": 83,
   "metadata": {},
   "outputs": [
    {
     "data": {
      "text/plain": [
       "<tf.Tensor: id=1211972, shape=(), dtype=float32, numpy=0.88030154>"
      ]
     },
     "execution_count": 83,
     "metadata": {},
     "output_type": "execute_result"
    }
   ],
   "source": [
    "evaluate(x_train, y_train)"
   ]
  },
  {
   "cell_type": "code",
   "execution_count": 58,
   "metadata": {},
   "outputs": [
    {
     "data": {
      "text/plain": [
       "<tf.Tensor: id=808603, shape=(), dtype=float32, numpy=0.7292681>"
      ]
     },
     "execution_count": 58,
     "metadata": {},
     "output_type": "execute_result"
    }
   ],
   "source": [
    "evaluate(x_val, y_val)"
   ]
  },
  {
   "cell_type": "markdown",
   "metadata": {},
   "source": [
    "## ВЫВОДЫ\n",
    "Да, разница в коэффициенте детерминации есть - у обучающей этот показзатель выше. С другой стороный показатель в 0.724 тоже очень хорош и модель может быть использована для прогонозов. Исходя из этого - да, модель преобучена"
   ]
  },
  {
   "cell_type": "markdown",
   "metadata": {},
   "source": [
    "# 2. Слой Linear\n",
    "\n",
    "* Дополните линейный слой так, чтобы у него появились веса для сдвига. Для этого используйте метод `add_weight`. Размерность вектора с весами для сдвига равно размерности слоя на выходе (параметр `units`). \n",
    "* Для инициализации сдвига _нулями_ передайте `tf.keras.initializers.Zeros()` в качестве значения для параметра `add_weight(..., initializer=...)` \n",
    "* Измените метод `call` так, чтобы он использовал сдвиги.\n",
    "* Обучите модель на тех же данных, что и в первом задании."
   ]
  },
  {
   "cell_type": "code",
   "execution_count": 158,
   "metadata": {},
   "outputs": [],
   "source": [
    "class Linear(tf.keras.layers.Layer):\n",
    "    def __init__(self, units, initializer='glorot_uniform', **kwargs):\n",
    "        super().__init__(**kwargs)\n",
    "        self.units = units\n",
    "        self.initializer = keras.initializers.get(initializer)\n",
    "    \n",
    "    def build(self, input_shape):\n",
    "        self.kernel = self.add_weight(\n",
    "        shape=(input_shape[-1], self.units),\n",
    "        initializer=self.initializer,\n",
    "        name=\"kernel\",\n",
    "        trainable=True,\n",
    "        )\n",
    "        self.baes = self.add_weight(\n",
    "        shape=(1, self.units),\n",
    "        initializer=tf.keras.initializers.Zeros(),\n",
    "        name=\"baes\",\n",
    "        trainable=True,\n",
    "        )\n",
    "\n",
    "  \n",
    "    def call(self, inputs):#добавить сдвиг\n",
    "        y = tf.matmul(inputs  , self.kernel)\n",
    "        z = tf.add(self.baes, y)\n",
    "       # return tf.matmul(inputs  , self.kernel + self.baes)\n",
    "       # print(z.shape)\n",
    "        return z"
   ]
  },
  {
   "cell_type": "markdown",
   "metadata": {},
   "source": [
    "## Запустите модель и сравните результаты с моделью из п.1"
   ]
  },
  {
   "cell_type": "code",
   "execution_count": 171,
   "metadata": {},
   "outputs": [],
   "source": [
    "import tensorflow.keras as keras\n",
    "import os\n",
    "import datetime\n",
    "\n",
    "\n",
    "logdir = os.path.join(\"logs\", datetime.datetime.now().strftime(\"%Y%m%d-%H%M%S\"))\n",
    "tensorboard = keras.callbacks.TensorBoard(logdir, histogram_freq=1)\n",
    "\n",
    "linear_layer = Linear(1)\n",
    "early_stopping = keras.callbacks.EarlyStopping(monitor='val_loss', \n",
    "                                               min_delta=1e-4)\n",
    "model = keras.models.Sequential([linear_layer])\n",
    "model.compile(optimizer=tf.keras.optimizers.SGD(learning_rate=0.01), \n",
    "              loss='mse')"
   ]
  },
  {
   "cell_type": "markdown",
   "metadata": {},
   "source": [
    "> **Обратите внимание**, что добавился параметр `validation_data`, а в `EarlyStopping` в ячейке выше значение параметра `monitor` заменено на `val_loss`!"
   ]
  },
  {
   "cell_type": "code",
   "execution_count": null,
   "metadata": {},
   "outputs": [
    {
     "name": "stdout",
     "output_type": "stream",
     "text": [
      "Train on 127 samples, validate on 32 samples\n",
      "WARNING:tensorflow:Model failed to serialize as JSON. Ignoring... Layers with arguments in `__init__` must override `get_config`.\n",
      "Epoch 1/100\n",
      "127/127 [==============================] - 0s 3ms/sample - loss: 2.8411 - val_loss: 1.2875\n",
      "Epoch 2/100\n",
      "127/127 [==============================] - 0s 235us/sample - loss: 2.6094 - val_loss: 1.2243\n",
      "Epoch 3/100\n",
      "127/127 [==============================] - 0s 172us/sample - loss: 2.4060 - val_loss: 1.1676\n",
      "Epoch 4/100\n",
      "127/127 [==============================] - 0s 243us/sample - loss: 2.2266 - val_loss: 1.1159\n",
      "Epoch 5/100\n",
      "127/127 [==============================] - 0s 230us/sample - loss: 2.0673 - val_loss: 1.0684\n",
      "Epoch 6/100\n",
      "127/127 [==============================] - 0s 221us/sample - loss: 1.9251 - val_loss: 1.0242\n",
      "Epoch 7/100\n",
      "127/127 [==============================] - 0s 264us/sample - loss: 1.7976 - val_loss: 0.9827\n",
      "Epoch 8/100\n",
      "127/127 [==============================] - 0s 292us/sample - loss: 1.6827 - val_loss: 0.9436\n",
      "Epoch 9/100\n",
      "127/127 [==============================] - 0s 227us/sample - loss: 1.5786 - val_loss: 0.9064\n",
      "Epoch 10/100\n",
      "127/127 [==============================] - 0s 446us/sample - loss: 1.4838 - val_loss: 0.8708\n",
      "Epoch 11/100\n",
      "127/127 [==============================] - 0s 309us/sample - loss: 1.3973 - val_loss: 0.8368\n",
      "Epoch 12/100\n",
      "127/127 [==============================] - 0s 198us/sample - loss: 1.3179 - val_loss: 0.8042\n",
      "Epoch 13/100\n",
      "127/127 [==============================] - 0s 268us/sample - loss: 1.2449 - val_loss: 0.7728\n",
      "Epoch 14/100\n",
      "127/127 [==============================] - 0s 238us/sample - loss: 1.1774 - val_loss: 0.7426\n",
      "Epoch 15/100\n",
      "127/127 [==============================] - 0s 303us/sample - loss: 1.1150 - val_loss: 0.7134\n",
      "Epoch 16/100\n",
      "127/127 [==============================] - 0s 351us/sample - loss: 1.0570 - val_loss: 0.6854\n",
      "Epoch 17/100\n",
      "127/127 [==============================] - 0s 287us/sample - loss: 1.0031 - val_loss: 0.6584\n",
      "Epoch 18/100\n",
      "127/127 [==============================] - 0s 275us/sample - loss: 0.9528 - val_loss: 0.6324\n",
      "Epoch 19/100\n",
      "127/127 [==============================] - 0s 300us/sample - loss: 0.9059 - val_loss: 0.6074\n",
      "Epoch 20/100\n",
      "127/127 [==============================] - 0s 391us/sample - loss: 0.8620 - val_loss: 0.5833\n",
      "Epoch 21/100\n",
      "127/127 [==============================] - 0s 273us/sample - loss: 0.8208 - val_loss: 0.5602\n",
      "Epoch 22/100\n",
      "127/127 [==============================] - 0s 518us/sample - loss: 0.7822 - val_loss: 0.5380\n",
      "Epoch 23/100\n",
      "127/127 [==============================] - 0s 192us/sample - loss: 0.7460 - val_loss: 0.5167\n",
      "Epoch 24/100\n",
      "127/127 [==============================] - 0s 233us/sample - loss: 0.7119 - val_loss: 0.4963\n",
      "Epoch 25/100\n",
      "127/127 [==============================] - 0s 237us/sample - loss: 0.6799 - val_loss: 0.4768\n",
      "Epoch 26/100\n",
      "127/127 [==============================] - 0s 316us/sample - loss: 0.6498 - val_loss: 0.4581\n",
      "Epoch 27/100\n",
      "127/127 [==============================] - 0s 257us/sample - loss: 0.6214 - val_loss: 0.4402\n",
      "Epoch 28/100\n",
      "127/127 [==============================] - 0s 445us/sample - loss: 0.5946 - val_loss: 0.4231\n",
      "Epoch 29/100\n",
      "127/127 [==============================] - 0s 358us/sample - loss: 0.5694 - val_loss: 0.4068\n",
      "Epoch 30/100\n",
      "127/127 [==============================] - 0s 250us/sample - loss: 0.5456 - val_loss: 0.3912\n",
      "Epoch 31/100\n",
      "127/127 [==============================] - 0s 314us/sample - loss: 0.5231 - val_loss: 0.3764\n",
      "Epoch 32/100\n",
      "127/127 [==============================] - 0s 193us/sample - loss: 0.5020 - val_loss: 0.3622\n",
      "Epoch 33/100\n",
      "127/127 [==============================] - 0s 200us/sample - loss: 0.4820 - val_loss: 0.3488\n",
      "Epoch 34/100\n",
      "127/127 [==============================] - 0s 339us/sample - loss: 0.4631 - val_loss: 0.3360\n",
      "Epoch 35/100\n",
      "127/127 [==============================] - 0s 360us/sample - loss: 0.4452 - val_loss: 0.3238\n",
      "Epoch 36/100\n",
      "127/127 [==============================] - 0s 150us/sample - loss: 0.4284 - val_loss: 0.3122\n",
      "Epoch 37/100\n",
      "127/127 [==============================] - 0s 232us/sample - loss: 0.4125 - val_loss: 0.3012\n",
      "Epoch 38/100\n",
      "127/127 [==============================] - 0s 271us/sample - loss: 0.3974 - val_loss: 0.2907\n",
      "Epoch 39/100\n",
      "127/127 [==============================] - 0s 270us/sample - loss: 0.3832 - val_loss: 0.2808\n",
      "Epoch 40/100\n",
      "127/127 [==============================] - 0s 331us/sample - loss: 0.3698 - val_loss: 0.2713\n",
      "Epoch 41/100\n",
      "127/127 [==============================] - 0s 261us/sample - loss: 0.3571 - val_loss: 0.2624\n",
      "Epoch 42/100\n",
      "127/127 [==============================] - 0s 256us/sample - loss: 0.3451 - val_loss: 0.2539\n",
      "Epoch 43/100\n",
      "127/127 [==============================] - 0s 331us/sample - loss: 0.3338 - val_loss: 0.2459\n",
      "Epoch 44/100\n",
      "127/127 [==============================] - 0s 259us/sample - loss: 0.3231 - val_loss: 0.2383\n",
      "Epoch 45/100\n",
      "127/127 [==============================] - 0s 286us/sample - loss: 0.3129 - val_loss: 0.2311\n",
      "Epoch 46/100\n",
      "127/127 [==============================] - 0s 305us/sample - loss: 0.3034 - val_loss: 0.2242\n",
      "Epoch 47/100\n",
      "127/127 [==============================] - 0s 174us/sample - loss: 0.2943 - val_loss: 0.2178\n",
      "Epoch 48/100\n",
      "127/127 [==============================] - 0s 154us/sample - loss: 0.2857 - val_loss: 0.2117\n",
      "Epoch 49/100\n",
      "127/127 [==============================] - 0s 336us/sample - loss: 0.2776 - val_loss: 0.2059\n",
      "Epoch 50/100\n",
      "127/127 [==============================] - 0s 280us/sample - loss: 0.2700 - val_loss: 0.2004\n",
      "Epoch 51/100\n",
      "127/127 [==============================] - 0s 231us/sample - loss: 0.2628 - val_loss: 0.1952\n",
      "Epoch 52/100\n",
      "127/127 [==============================] - 0s 193us/sample - loss: 0.2559 - val_loss: 0.1903\n",
      "Epoch 53/100\n",
      "127/127 [==============================] - 0s 324us/sample - loss: 0.2495 - val_loss: 0.1857\n",
      "Epoch 54/100\n",
      "127/127 [==============================] - 0s 219us/sample - loss: 0.2433 - val_loss: 0.1814\n",
      "Epoch 55/100\n",
      "127/127 [==============================] - 0s 365us/sample - loss: 0.2376 - val_loss: 0.1772\n",
      "Epoch 56/100\n",
      "127/127 [==============================] - 0s 281us/sample - loss: 0.2321 - val_loss: 0.1733\n",
      "Epoch 57/100\n",
      "127/127 [==============================] - 0s 292us/sample - loss: 0.2269 - val_loss: 0.1696\n",
      "Epoch 58/100\n",
      "127/127 [==============================] - 0s 256us/sample - loss: 0.2220 - val_loss: 0.1662\n",
      "Epoch 59/100\n",
      "127/127 [==============================] - 0s 266us/sample - loss: 0.2174 - val_loss: 0.1629\n",
      "Epoch 60/100\n",
      "127/127 [==============================] - 0s 342us/sample - loss: 0.2131 - val_loss: 0.1598\n",
      "Epoch 61/100\n",
      "127/127 [==============================] - 0s 238us/sample - loss: 0.2089 - val_loss: 0.1569\n",
      "Epoch 62/100\n",
      "127/127 [==============================] - 0s 438us/sample - loss: 0.2050 - val_loss: 0.1541\n",
      "Epoch 63/100\n",
      "127/127 [==============================] - 0s 219us/sample - loss: 0.2013 - val_loss: 0.1515\n",
      "Epoch 64/100\n",
      "127/127 [==============================] - 0s 246us/sample - loss: 0.1978 - val_loss: 0.1491\n",
      "Epoch 65/100\n",
      "127/127 [==============================] - 0s 245us/sample - loss: 0.1945 - val_loss: 0.1468\n",
      "Epoch 66/100\n",
      "127/127 [==============================] - 0s 170us/sample - loss: 0.1914 - val_loss: 0.1446\n",
      "Epoch 67/100\n",
      "127/127 [==============================] - 0s 335us/sample - loss: 0.1884 - val_loss: 0.1425\n",
      "Epoch 68/100\n",
      "127/127 [==============================] - 0s 200us/sample - loss: 0.1857 - val_loss: 0.1406\n",
      "Epoch 69/100\n",
      "127/127 [==============================] - 0s 306us/sample - loss: 0.1830 - val_loss: 0.1388\n",
      "Epoch 70/100\n"
     ]
    }
   ],
   "source": [
    "history = model.fit(x_train, np.expand_dims(y_train, axis=-1), \n",
    "                    validation_data=(x_val, y_val),\n",
    "                    batch_size=512,\n",
    "                    epochs=100,\n",
    "                    callbacks=[early_stopping, tensorboard],\n",
    "                    verbose=1)"
   ]
  },
  {
   "cell_type": "markdown",
   "metadata": {},
   "source": [
    "## Tensorboard\n",
    "> Выведите полученные результаты в tensorboard. Это сервис, который позволяет визуализировать процесс обучения модели, состояние графа и не только. \n",
    "\n",
    "Для запуска нужно \n",
    "* Установить расширение\n",
    "* Выполнить команду запуска, передав ей имя директории, в которую записывал логи `callbacks.Tensorboard`.\n",
    "\n",
    "Более подробно изучим tensorboard на будущих занятиях. Пока можете посмотреть вкладки scalars, graphs, distributions, histograms. В них содержится информация о метриках модели, графе, распередлениях и гистограммах параметров."
   ]
  },
  {
   "cell_type": "code",
   "execution_count": 153,
   "metadata": {},
   "outputs": [
    {
     "name": "stdout",
     "output_type": "stream",
     "text": [
      "The tensorboard extension is already loaded. To reload it, use:\n",
      "  %reload_ext tensorboard\n"
     ]
    }
   ],
   "source": [
    "%load_ext tensorboard"
   ]
  },
  {
   "cell_type": "code",
   "execution_count": 154,
   "metadata": {},
   "outputs": [
    {
     "data": {
      "text/plain": [
       "Text(0.5, 0, 'epoch')"
      ]
     },
     "execution_count": 154,
     "metadata": {},
     "output_type": "execute_result"
    },
    {
     "data": {
      "image/png": "[encoded data removed]",
      "text/plain": [
       "<Figure size 432x288 with 1 Axes>"
      ]
     },
     "metadata": {
      "needs_background": "light"
     },
     "output_type": "display_data"
    }
   ],
   "source": [
    "plt.plot(history.history['loss'])\n",
    "plt.title('loss')\n",
    "plt.ylabel('mse')\n",
    "plt.xlabel('epoch')"
   ]
  },
  {
   "cell_type": "code",
   "execution_count": 345,
   "metadata": {},
   "outputs": [
    {
     "data": {
      "text/html": [
       "\n",
       "      <iframe id=\"tensorboard-frame-a03e336622ed5266\" width=\"100%\" height=\"800\" frameborder=\"0\">\n",
       "      </iframe>\n",
       "      <script>\n",
       "        (function() {\n",
       "          const frame = document.getElementById(\"tensorboard-frame-a03e336622ed5266\");\n",
       "          const url = new URL(\"/\", window.location);\n",
       "          url.port = 6007;\n",
       "          frame.src = url;\n",
       "        })();\n",
       "      </script>\n",
       "  "
      ],
      "text/plain": [
       "<IPython.core.display.HTML object>"
      ]
     },
     "metadata": {},
     "output_type": "display_data"
    }
   ],
   "source": [
    "%tensorboard --logdir='logs' "
   ]
  },
  {
   "cell_type": "code",
   "execution_count": 344,
   "metadata": {},
   "outputs": [],
   "source": [
    "!kill 3019"
   ]
  },
  {
   "cell_type": "code",
   "execution_count": null,
   "metadata": {},
   "outputs": [],
   "source": []
  }
 ],
 "metadata": {
  "kernelspec": {
   "display_name": "Python 3",
   "language": "python",
   "name": "python3"
  },
  "language_info": {
   "codemirror_mode": {
    "name": "ipython",
    "version": 3
   },
   "file_extension": ".py",
   "mimetype": "text/x-python",
   "name": "python",
   "nbconvert_exporter": "python",
   "pygments_lexer": "ipython3",
   "version": "3.7.4"
  }
 },
 "nbformat": 4,
 "nbformat_minor": 4
}
